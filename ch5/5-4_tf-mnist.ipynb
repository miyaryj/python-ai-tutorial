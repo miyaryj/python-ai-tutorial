{
 "cells": [
  {
   "cell_type": "code",
   "execution_count": 1,
   "metadata": {},
   "outputs": [
    {
     "name": "stderr",
     "output_type": "stream",
     "text": [
      "Using TensorFlow backend.\n"
     ]
    }
   ],
   "source": [
    "import keras\n",
    "from keras.datasets import mnist\n",
    "from matplotlib import pyplot"
   ]
  },
  {
   "cell_type": "code",
   "execution_count": 2,
   "metadata": {},
   "outputs": [],
   "source": [
    "(X_train, y_train), (X_test, y_test) = mnist.load_data()"
   ]
  },
  {
   "cell_type": "code",
   "execution_count": 3,
   "metadata": {},
   "outputs": [
    {
     "data": {
      "image/png": "[encoded data removed]",
      "text/plain": [
       "<Figure size 432x288 with 32 Axes>"
      ]
     },
     "metadata": {
      "needs_background": "light"
     },
     "output_type": "display_data"
    }
   ],
   "source": [
    "for i in range(0, 32):\n",
    "    pyplot.subplot(4, 8, i + 1)\n",
    "    pyplot.imshow(X_train[i], cmap='gray')\n",
    "    \n",
    "pyplot.show()"
   ]
  },
  {
   "cell_type": "code",
   "execution_count": 4,
   "metadata": {},
   "outputs": [
    {
     "data": {
      "text/plain": [
       "array([[  0,   0,   0,   0,   0,   0,   0,   0,   0,   0,   0,   0,   0,\n",
       "          0,   0,   0,   0,   0,   0,   0,   0,   0,   0,   0,   0,   0,\n",
       "          0,   0],\n",
       "       [  0,   0,   0,   0,   0,   0,   0,   0,   0,   0,   0,   0,   0,\n",
       "          0,   0,   0,   0,   0,   0,   0,   0,   0,   0,   0,   0,   0,\n",
       "          0,   0],\n",
       "       [  0,   0,   0,   0,   0,   0,   0,   0,   0,   0,   0,   0,   0,\n",
       "          0,   0,   0,   0,   0,   0,   0,   0,   0,   0,   0,   0,   0,\n",
       "          0,   0],\n",
       "       [  0,   0,   0,   0,   0,   0,   0,   0,   0,   0,   0,   0,   0,\n",
       "          0,   0,   0,   0,   0,   0,   0,   0,   0,   0,   0,   0,   0,\n",
       "          0,   0],\n",
       "       [  0,   0,   0,   0,   0,   0,   0,   0,   0,   0,   0,   0,   0,\n",
       "          0,   0,   0,   0,   0,   0,   0,   0,   0,   0,   0,   0,   0,\n",
       "          0,   0],\n",
       "       [  0,   0,   0,   0,   0,   0,   0,   0,   0,   0,   0,   0,   3,\n",
       "         18,  18,  18, 126, 136, 175,  26, 166, 255, 247, 127,   0,   0,\n",
       "          0,   0],\n",
       "       [  0,   0,   0,   0,   0,   0,   0,   0,  30,  36,  94, 154, 170,\n",
       "        253, 253, 253, 253, 253, 225, 172, 253, 242, 195,  64,   0,   0,\n",
       "          0,   0],\n",
       "       [  0,   0,   0,   0,   0,   0,   0,  49, 238, 253, 253, 253, 253,\n",
       "        253, 253, 253, 253, 251,  93,  82,  82,  56,  39,   0,   0,   0,\n",
       "          0,   0],\n",
       "       [  0,   0,   0,   0,   0,   0,   0,  18, 219, 253, 253, 253, 253,\n",
       "        253, 198, 182, 247, 241,   0,   0,   0,   0,   0,   0,   0,   0,\n",
       "          0,   0],\n",
       "       [  0,   0,   0,   0,   0,   0,   0,   0,  80, 156, 107, 253, 253,\n",
       "        205,  11,   0,  43, 154,   0,   0,   0,   0,   0,   0,   0,   0,\n",
       "          0,   0],\n",
       "       [  0,   0,   0,   0,   0,   0,   0,   0,   0,  14,   1, 154, 253,\n",
       "         90,   0,   0,   0,   0,   0,   0,   0,   0,   0,   0,   0,   0,\n",
       "          0,   0],\n",
       "       [  0,   0,   0,   0,   0,   0,   0,   0,   0,   0,   0, 139, 253,\n",
       "        190,   2,   0,   0,   0,   0,   0,   0,   0,   0,   0,   0,   0,\n",
       "          0,   0],\n",
       "       [  0,   0,   0,   0,   0,   0,   0,   0,   0,   0,   0,  11, 190,\n",
       "        253,  70,   0,   0,   0,   0,   0,   0,   0,   0,   0,   0,   0,\n",
       "          0,   0],\n",
       "       [  0,   0,   0,   0,   0,   0,   0,   0,   0,   0,   0,   0,  35,\n",
       "        241, 225, 160, 108,   1,   0,   0,   0,   0,   0,   0,   0,   0,\n",
       "          0,   0],\n",
       "       [  0,   0,   0,   0,   0,   0,   0,   0,   0,   0,   0,   0,   0,\n",
       "         81, 240, 253, 253, 119,  25,   0,   0,   0,   0,   0,   0,   0,\n",
       "          0,   0],\n",
       "       [  0,   0,   0,   0,   0,   0,   0,   0,   0,   0,   0,   0,   0,\n",
       "          0,  45, 186, 253, 253, 150,  27,   0,   0,   0,   0,   0,   0,\n",
       "          0,   0],\n",
       "       [  0,   0,   0,   0,   0,   0,   0,   0,   0,   0,   0,   0,   0,\n",
       "          0,   0,  16,  93, 252, 253, 187,   0,   0,   0,   0,   0,   0,\n",
       "          0,   0],\n",
       "       [  0,   0,   0,   0,   0,   0,   0,   0,   0,   0,   0,   0,   0,\n",
       "          0,   0,   0,   0, 249, 253, 249,  64,   0,   0,   0,   0,   0,\n",
       "          0,   0],\n",
       "       [  0,   0,   0,   0,   0,   0,   0,   0,   0,   0,   0,   0,   0,\n",
       "          0,  46, 130, 183, 253, 253, 207,   2,   0,   0,   0,   0,   0,\n",
       "          0,   0],\n",
       "       [  0,   0,   0,   0,   0,   0,   0,   0,   0,   0,   0,   0,  39,\n",
       "        148, 229, 253, 253, 253, 250, 182,   0,   0,   0,   0,   0,   0,\n",
       "          0,   0],\n",
       "       [  0,   0,   0,   0,   0,   0,   0,   0,   0,   0,  24, 114, 221,\n",
       "        253, 253, 253, 253, 201,  78,   0,   0,   0,   0,   0,   0,   0,\n",
       "          0,   0],\n",
       "       [  0,   0,   0,   0,   0,   0,   0,   0,  23,  66, 213, 253, 253,\n",
       "        253, 253, 198,  81,   2,   0,   0,   0,   0,   0,   0,   0,   0,\n",
       "          0,   0],\n",
       "       [  0,   0,   0,   0,   0,   0,  18, 171, 219, 253, 253, 253, 253,\n",
       "        195,  80,   9,   0,   0,   0,   0,   0,   0,   0,   0,   0,   0,\n",
       "          0,   0],\n",
       "       [  0,   0,   0,   0,  55, 172, 226, 253, 253, 253, 253, 244, 133,\n",
       "         11,   0,   0,   0,   0,   0,   0,   0,   0,   0,   0,   0,   0,\n",
       "          0,   0],\n",
       "       [  0,   0,   0,   0, 136, 253, 253, 253, 212, 135, 132,  16,   0,\n",
       "          0,   0,   0,   0,   0,   0,   0,   0,   0,   0,   0,   0,   0,\n",
       "          0,   0],\n",
       "       [  0,   0,   0,   0,   0,   0,   0,   0,   0,   0,   0,   0,   0,\n",
       "          0,   0,   0,   0,   0,   0,   0,   0,   0,   0,   0,   0,   0,\n",
       "          0,   0],\n",
       "       [  0,   0,   0,   0,   0,   0,   0,   0,   0,   0,   0,   0,   0,\n",
       "          0,   0,   0,   0,   0,   0,   0,   0,   0,   0,   0,   0,   0,\n",
       "          0,   0],\n",
       "       [  0,   0,   0,   0,   0,   0,   0,   0,   0,   0,   0,   0,   0,\n",
       "          0,   0,   0,   0,   0,   0,   0,   0,   0,   0,   0,   0,   0,\n",
       "          0,   0]], dtype=uint8)"
      ]
     },
     "execution_count": 4,
     "metadata": {},
     "output_type": "execute_result"
    }
   ],
   "source": [
    "X_train[0]"
   ]
  },
  {
   "cell_type": "code",
   "execution_count": 5,
   "metadata": {},
   "outputs": [
    {
     "data": {
      "text/plain": [
       "array([[0., 0., 0., ..., 0., 0., 0.],\n",
       "       [0., 0., 0., ..., 0., 0., 0.],\n",
       "       [0., 0., 0., ..., 0., 0., 0.],\n",
       "       ...,\n",
       "       [0., 0., 0., ..., 0., 0., 0.],\n",
       "       [0., 0., 0., ..., 0., 0., 0.],\n",
       "       [0., 0., 0., ..., 0., 0., 0.]], dtype=float32)"
      ]
     },
     "execution_count": 5,
     "metadata": {},
     "output_type": "execute_result"
    }
   ],
   "source": [
    "X_train = X_train.reshape(-1, 784).astype('float32') / 255\n",
    "X_test = X_test.reshape(-1, 784).astype('float32') / 255\n",
    "X_train"
   ]
  },
  {
   "cell_type": "code",
   "execution_count": 6,
   "metadata": {},
   "outputs": [
    {
     "data": {
      "text/plain": [
       "array([[0., 0., 0., ..., 0., 0., 0.],\n",
       "       [1., 0., 0., ..., 0., 0., 0.],\n",
       "       [0., 0., 0., ..., 0., 0., 0.],\n",
       "       ...,\n",
       "       [0., 0., 0., ..., 0., 0., 0.],\n",
       "       [0., 0., 0., ..., 0., 0., 0.],\n",
       "       [0., 0., 0., ..., 0., 1., 0.]], dtype=float32)"
      ]
     },
     "execution_count": 6,
     "metadata": {},
     "output_type": "execute_result"
    }
   ],
   "source": [
    "y_train = keras.utils.np_utils.to_categorical(y_train.astype('int32'), 10)\n",
    "y_test = keras.utils.np_utils.to_categorical(y_test.astype('int32'), 10)\n",
    "y_train"
   ]
  },
  {
   "cell_type": "code",
   "execution_count": 7,
   "metadata": {},
   "outputs": [
    {
     "name": "stdout",
     "output_type": "stream",
     "text": [
      "WARNING:tensorflow:From C:\\Users\\0190711653\\AppData\\Local\\Continuum\\anaconda3\\lib\\site-packages\\tensorflow_core\\python\\ops\\resource_variable_ops.py:1630: calling BaseResourceVariable.__init__ (from tensorflow.python.ops.resource_variable_ops) with constraint is deprecated and will be removed in a future version.\n",
      "Instructions for updating:\n",
      "If using Keras pass *_constraint arguments to layers.\n"
     ]
    }
   ],
   "source": [
    "in_size = 28 * 28\n",
    "out_size = 10\n",
    "\n",
    "Dense = keras.layers.Dense\n",
    "model = keras.models.Sequential()\n",
    "model.add(Dense(512, activation='relu', input_shape=(in_size,)))\n",
    "model.add(Dense(out_size, activation='softmax'))"
   ]
  },
  {
   "cell_type": "code",
   "execution_count": 8,
   "metadata": {},
   "outputs": [
    {
     "name": "stdout",
     "output_type": "stream",
     "text": [
      "WARNING:tensorflow:From C:\\Users\\0190711653\\AppData\\Local\\Continuum\\anaconda3\\lib\\site-packages\\keras\\backend\\tensorflow_backend.py:422: The name tf.global_variables is deprecated. Please use tf.compat.v1.global_variables instead.\n",
      "\n",
      "Epoch 1/20\n",
      "60000/60000 [==============================] - 18s 302us/step - loss: 0.1901 - accuracy: 0.9442\n",
      "Epoch 2/20\n",
      "60000/60000 [==============================] - 18s 299us/step - loss: 0.0779 - accuracy: 0.9759\n",
      "Epoch 3/20\n",
      "60000/60000 [==============================] - 18s 294us/step - loss: 0.0506 - accuracy: 0.9841\n",
      "Epoch 4/20\n",
      "60000/60000 [==============================] - 18s 296us/step - loss: 0.0358 - accuracy: 0.9885\n",
      "Epoch 5/20\n",
      "60000/60000 [==============================] - 17s 292us/step - loss: 0.0288 - accuracy: 0.9907\n",
      "Epoch 6/20\n",
      "60000/60000 [==============================] - 17s 291us/step - loss: 0.0229 - accuracy: 0.9923\n",
      "Epoch 7/20\n",
      "60000/60000 [==============================] - 17s 292us/step - loss: 0.0187 - accuracy: 0.9933\n",
      "Epoch 8/20\n",
      "60000/60000 [==============================] - 18s 298us/step - loss: 0.0148 - accuracy: 0.9948\n",
      "Epoch 9/20\n",
      "60000/60000 [==============================] - 18s 293us/step - loss: 0.0142 - accuracy: 0.9952\n",
      "Epoch 10/20\n",
      "60000/60000 [==============================] - 18s 293us/step - loss: 0.0141 - accuracy: 0.9956\n",
      "Epoch 11/20\n",
      "60000/60000 [==============================] - 18s 300us/step - loss: 0.0097 - accuracy: 0.9965\n",
      "Epoch 12/20\n",
      "60000/60000 [==============================] - 18s 294us/step - loss: 0.0125 - accuracy: 0.9957\n",
      "Epoch 13/20\n",
      "60000/60000 [==============================] - 18s 294us/step - loss: 0.0097 - accuracy: 0.9967\n",
      "Epoch 14/20\n",
      "60000/60000 [==============================] - 18s 301us/step - loss: 0.0079 - accuracy: 0.9971\n",
      "Epoch 15/20\n",
      "60000/60000 [==============================] - 18s 295us/step - loss: 0.0121 - accuracy: 0.9962\n",
      "Epoch 16/20\n",
      "60000/60000 [==============================] - 18s 294us/step - loss: 0.0090 - accuracy: 0.9972\n",
      "Epoch 17/20\n",
      "60000/60000 [==============================] - 18s 296us/step - loss: 0.0068 - accuracy: 0.9980\n",
      "Epoch 18/20\n",
      "60000/60000 [==============================] - 19s 311us/step - loss: 0.0087 - accuracy: 0.9973\n",
      "Epoch 19/20\n",
      "60000/60000 [==============================] - 18s 296us/step - loss: 0.0068 - accuracy: 0.9977\n",
      "Epoch 20/20\n",
      "60000/60000 [==============================] - 18s 302us/step - loss: 0.0083 - accuracy: 0.9974\n"
     ]
    },
    {
     "data": {
      "text/plain": [
       "<keras.callbacks.callbacks.History at 0x1be0dc0b7b8>"
      ]
     },
     "execution_count": 8,
     "metadata": {},
     "output_type": "execute_result"
    }
   ],
   "source": [
    "model.compile(\n",
    "    loss='categorical_crossentropy',\n",
    "    optimizer='adam',\n",
    "    metrics=['accuracy'])\n",
    "\n",
    "model.fit(X_train, y_train, batch_size=20, epochs=20)"
   ]
  },
  {
   "cell_type": "code",
   "execution_count": 9,
   "metadata": {},
   "outputs": [
    {
     "name": "stdout",
     "output_type": "stream",
     "text": [
      "10000/10000 [==============================] - 0s 19us/step\n",
      "Accuracy:  0.9807000160217285 Loss:  0.14575632145045667\n"
     ]
    }
   ],
   "source": [
    "score = model.evaluate(X_test, y_test, verbose=1)\n",
    "print(\"Accuracy: \", score[1], \"Loss: \", score[0])"
   ]
  },
  {
   "cell_type": "code",
   "execution_count": 10,
   "metadata": {},
   "outputs": [],
   "source": [
    "from keras.models import Sequential\n",
    "from keras.layers import Dense, Dropout\n",
    "from keras.optimizers import RMSprop\n",
    "import matplotlib.pyplot as plt"
   ]
  },
  {
   "cell_type": "code",
   "execution_count": 11,
   "metadata": {},
   "outputs": [],
   "source": [
    "model = Sequential()\n",
    "model.add(Dense(512, activation='relu', input_shape=(in_size,)))\n",
    "model.add(Dropout(0.2))\n",
    "model.add(Dense(512, activation='relu'))\n",
    "model.add(Dropout(0.2))\n",
    "model.add(Dense(out_size, activation='softmax'))"
   ]
  },
  {
   "cell_type": "code",
   "execution_count": 12,
   "metadata": {},
   "outputs": [],
   "source": [
    "model.compile(\n",
    "    loss='categorical_crossentropy',\n",
    "    optimizer=RMSprop(),\n",
    "    metrics=['accuracy'])"
   ]
  },
  {
   "cell_type": "code",
   "execution_count": 13,
   "metadata": {},
   "outputs": [
    {
     "name": "stdout",
     "output_type": "stream",
     "text": [
      "Train on 60000 samples, validate on 10000 samples\n",
      "Epoch 1/50\n",
      "60000/60000 [==============================] - 5s 90us/step - loss: 0.2483 - accuracy: 0.9234 - val_loss: 0.1189 - val_accuracy: 0.9621\n",
      "Epoch 2/50\n",
      "60000/60000 [==============================] - 5s 90us/step - loss: 0.1034 - accuracy: 0.9676 - val_loss: 0.0977 - val_accuracy: 0.9694\n",
      "Epoch 3/50\n",
      "60000/60000 [==============================] - 5s 89us/step - loss: 0.0741 - accuracy: 0.9776 - val_loss: 0.0797 - val_accuracy: 0.9771\n",
      "Epoch 4/50\n",
      "60000/60000 [==============================] - 5s 85us/step - loss: 0.0605 - accuracy: 0.9824 - val_loss: 0.0667 - val_accuracy: 0.9823\n",
      "Epoch 5/50\n",
      "60000/60000 [==============================] - 5s 85us/step - loss: 0.0500 - accuracy: 0.9852 - val_loss: 0.0756 - val_accuracy: 0.9807\n",
      "Epoch 6/50\n",
      "60000/60000 [==============================] - 5s 85us/step - loss: 0.0432 - accuracy: 0.9874 - val_loss: 0.0817 - val_accuracy: 0.9813\n",
      "Epoch 7/50\n",
      "60000/60000 [==============================] - 5s 84us/step - loss: 0.0403 - accuracy: 0.9883 - val_loss: 0.1022 - val_accuracy: 0.9776\n",
      "Epoch 8/50\n",
      "60000/60000 [==============================] - 5s 85us/step - loss: 0.0336 - accuracy: 0.9902 - val_loss: 0.0782 - val_accuracy: 0.9840\n",
      "Epoch 9/50\n",
      "60000/60000 [==============================] - 5s 85us/step - loss: 0.0304 - accuracy: 0.9911 - val_loss: 0.1139 - val_accuracy: 0.9794\n",
      "Epoch 10/50\n",
      "60000/60000 [==============================] - 5s 85us/step - loss: 0.0311 - accuracy: 0.9908 - val_loss: 0.0791 - val_accuracy: 0.9833\n",
      "Epoch 11/50\n",
      "60000/60000 [==============================] - 5s 85us/step - loss: 0.0279 - accuracy: 0.9920 - val_loss: 0.0985 - val_accuracy: 0.9824\n",
      "Epoch 12/50\n",
      "60000/60000 [==============================] - 5s 85us/step - loss: 0.0251 - accuracy: 0.9930 - val_loss: 0.0972 - val_accuracy: 0.9819\n",
      "Epoch 13/50\n",
      "60000/60000 [==============================] - 5s 85us/step - loss: 0.0225 - accuracy: 0.9937 - val_loss: 0.1043 - val_accuracy: 0.9819\n",
      "Epoch 14/50\n",
      "60000/60000 [==============================] - 5s 87us/step - loss: 0.0216 - accuracy: 0.9939 - val_loss: 0.1230 - val_accuracy: 0.9804\n",
      "Epoch 15/50\n",
      "60000/60000 [==============================] - 5s 87us/step - loss: 0.0226 - accuracy: 0.9936 - val_loss: 0.1085 - val_accuracy: 0.9826\n",
      "Epoch 16/50\n",
      "60000/60000 [==============================] - 5s 85us/step - loss: 0.0218 - accuracy: 0.9941 - val_loss: 0.1131 - val_accuracy: 0.9832\n",
      "Epoch 17/50\n",
      "60000/60000 [==============================] - 5s 85us/step - loss: 0.0193 - accuracy: 0.9945 - val_loss: 0.1203 - val_accuracy: 0.9836\n",
      "Epoch 18/50\n",
      "60000/60000 [==============================] - 5s 85us/step - loss: 0.0189 - accuracy: 0.9947 - val_loss: 0.1186 - val_accuracy: 0.9826\n",
      "Epoch 19/50\n",
      "60000/60000 [==============================] - 5s 85us/step - loss: 0.0181 - accuracy: 0.9951 - val_loss: 0.1147 - val_accuracy: 0.9845\n",
      "Epoch 20/50\n",
      "60000/60000 [==============================] - 5s 86us/step - loss: 0.0154 - accuracy: 0.9960 - val_loss: 0.1360 - val_accuracy: 0.9827\n",
      "Epoch 21/50\n",
      "60000/60000 [==============================] - 5s 85us/step - loss: 0.0167 - accuracy: 0.9956 - val_loss: 0.1075 - val_accuracy: 0.9858\n",
      "Epoch 22/50\n",
      "60000/60000 [==============================] - 5s 88us/step - loss: 0.0183 - accuracy: 0.9953 - val_loss: 0.1417 - val_accuracy: 0.9818\n",
      "Epoch 23/50\n",
      "60000/60000 [==============================] - 5s 87us/step - loss: 0.0180 - accuracy: 0.9954 - val_loss: 0.1396 - val_accuracy: 0.9829\n",
      "Epoch 24/50\n",
      "60000/60000 [==============================] - 5s 85us/step - loss: 0.0141 - accuracy: 0.9962 - val_loss: 0.1404 - val_accuracy: 0.9850\n",
      "Epoch 25/50\n",
      "60000/60000 [==============================] - 5s 85us/step - loss: 0.0171 - accuracy: 0.9958 - val_loss: 0.1487 - val_accuracy: 0.9844\n",
      "Epoch 26/50\n",
      "60000/60000 [==============================] - 5s 86us/step - loss: 0.0172 - accuracy: 0.9958 - val_loss: 0.1338 - val_accuracy: 0.9849\n",
      "Epoch 27/50\n",
      "60000/60000 [==============================] - 5s 87us/step - loss: 0.0138 - accuracy: 0.9968 - val_loss: 0.1423 - val_accuracy: 0.9851\n",
      "Epoch 28/50\n",
      "60000/60000 [==============================] - 5s 85us/step - loss: 0.0137 - accuracy: 0.9967 - val_loss: 0.1417 - val_accuracy: 0.9852\n",
      "Epoch 29/50\n",
      "60000/60000 [==============================] - 5s 85us/step - loss: 0.0158 - accuracy: 0.9964 - val_loss: 0.1674 - val_accuracy: 0.9836\n",
      "Epoch 30/50\n",
      "60000/60000 [==============================] - 6s 92us/step - loss: 0.0150 - accuracy: 0.9964 - val_loss: 0.1472 - val_accuracy: 0.9847\n",
      "Epoch 31/50\n",
      "60000/60000 [==============================] - 5s 87us/step - loss: 0.0127 - accuracy: 0.9968 - val_loss: 0.1521 - val_accuracy: 0.9848\n",
      "Epoch 32/50\n",
      "60000/60000 [==============================] - 5s 86us/step - loss: 0.0141 - accuracy: 0.9966 - val_loss: 0.1477 - val_accuracy: 0.9835\n",
      "Epoch 33/50\n",
      "60000/60000 [==============================] - 5s 87us/step - loss: 0.0135 - accuracy: 0.9967 - val_loss: 0.1586 - val_accuracy: 0.9830\n",
      "Epoch 34/50\n",
      "60000/60000 [==============================] - 5s 86us/step - loss: 0.0121 - accuracy: 0.9972 - val_loss: 0.1787 - val_accuracy: 0.9815\n",
      "Epoch 35/50\n",
      "60000/60000 [==============================] - 5s 87us/step - loss: 0.0153 - accuracy: 0.9968 - val_loss: 0.1649 - val_accuracy: 0.9844\n",
      "Epoch 36/50\n",
      "60000/60000 [==============================] - 5s 86us/step - loss: 0.0143 - accuracy: 0.9967 - val_loss: 0.1647 - val_accuracy: 0.9852\n",
      "Epoch 37/50\n",
      "60000/60000 [==============================] - 6s 92us/step - loss: 0.0123 - accuracy: 0.9969 - val_loss: 0.1652 - val_accuracy: 0.9850\n",
      "Epoch 38/50\n",
      "60000/60000 [==============================] - 5s 89us/step - loss: 0.0153 - accuracy: 0.9966 - val_loss: 0.1671 - val_accuracy: 0.9834\n",
      "Epoch 39/50\n",
      "60000/60000 [==============================] - 5s 87us/step - loss: 0.0140 - accuracy: 0.9969 - val_loss: 0.1617 - val_accuracy: 0.9850\n",
      "Epoch 40/50\n",
      "60000/60000 [==============================] - 5s 87us/step - loss: 0.0119 - accuracy: 0.9978 - val_loss: 0.1812 - val_accuracy: 0.9844\n",
      "Epoch 41/50\n",
      "60000/60000 [==============================] - 5s 87us/step - loss: 0.0135 - accuracy: 0.9970 - val_loss: 0.1747 - val_accuracy: 0.9840\n",
      "Epoch 42/50\n",
      "60000/60000 [==============================] - 5s 87us/step - loss: 0.0128 - accuracy: 0.9977 - val_loss: 0.1894 - val_accuracy: 0.9848\n",
      "Epoch 43/50\n",
      "60000/60000 [==============================] - 5s 88us/step - loss: 0.0124 - accuracy: 0.9975 - val_loss: 0.2032 - val_accuracy: 0.9837\n",
      "Epoch 44/50\n",
      "60000/60000 [==============================] - 5s 87us/step - loss: 0.0123 - accuracy: 0.9974 - val_loss: 0.1774 - val_accuracy: 0.9858\n",
      "Epoch 45/50\n",
      "60000/60000 [==============================] - 5s 87us/step - loss: 0.0140 - accuracy: 0.9973 - val_loss: 0.1895 - val_accuracy: 0.9845\n",
      "Epoch 46/50\n",
      "60000/60000 [==============================] - 5s 88us/step - loss: 0.0099 - accuracy: 0.9979 - val_loss: 0.1887 - val_accuracy: 0.9844\n",
      "Epoch 47/50\n",
      "60000/60000 [==============================] - 5s 88us/step - loss: 0.0124 - accuracy: 0.9976 - val_loss: 0.1909 - val_accuracy: 0.9856\n",
      "Epoch 48/50\n",
      "60000/60000 [==============================] - 5s 90us/step - loss: 0.0136 - accuracy: 0.9976 - val_loss: 0.1803 - val_accuracy: 0.9850\n",
      "Epoch 49/50\n",
      "60000/60000 [==============================] - 5s 88us/step - loss: 0.0104 - accuracy: 0.9977 - val_loss: 0.2084 - val_accuracy: 0.9829\n",
      "Epoch 50/50\n",
      "60000/60000 [==============================] - 6s 92us/step - loss: 0.0130 - accuracy: 0.9977 - val_loss: 0.1962 - val_accuracy: 0.9826\n"
     ]
    }
   ],
   "source": [
    "hist = model.fit(X_train, y_train,\n",
    "                batch_size=128,\n",
    "                epochs=50,\n",
    "                verbose=1,\n",
    "                validation_data=(X_test, y_test))"
   ]
  },
  {
   "cell_type": "code",
   "execution_count": 14,
   "metadata": {},
   "outputs": [
    {
     "name": "stdout",
     "output_type": "stream",
     "text": [
      "10000/10000 [==============================] - 0s 25us/step\n",
      "Accuracy:  0.9825999736785889 Loss:  0.19622829351210147\n"
     ]
    }
   ],
   "source": [
    "score = model.evaluate(X_test, y_test, verbose=1)\n",
    "print(\"Accuracy: \", score[1], \"Loss: \", score[0])"
   ]
  },
  {
   "cell_type": "code",
   "execution_count": 15,
   "metadata": {},
   "outputs": [
    {
     "data": {
      "image/png": "[encoded data removed]",
      "text/plain": [
       "<Figure size 432x288 with 1 Axes>"
      ]
     },
     "metadata": {
      "needs_background": "light"
     },
     "output_type": "display_data"
    }
   ],
   "source": [
    "plt.plot(hist.history['accuracy'])\n",
    "plt.plot(hist.history['val_accuracy'])\n",
    "plt.title('Accuracy')\n",
    "plt.legend(['train', 'test'], loc='upper left')\n",
    "plt.show()"
   ]
  },
  {
   "cell_type": "code",
   "execution_count": 16,
   "metadata": {},
   "outputs": [
    {
     "data": {
      "image/png": "[encoded data removed]",
      "text/plain": [
       "<Figure size 432x288 with 1 Axes>"
      ]
     },
     "metadata": {
      "needs_background": "light"
     },
     "output_type": "display_data"
    }
   ],
   "source": [
    "plt.plot(hist.history['loss'])\n",
    "plt.plot(hist.history['val_loss'])\n",
    "plt.title('Loss')\n",
    "plt.legend(['train', 'test'], loc='upper left')\n",
    "plt.show()"
   ]
  },
  {
   "cell_type": "code",
   "execution_count": 17,
   "metadata": {},
   "outputs": [],
   "source": [
    "from keras.layers import Flatten, Conv2D, MaxPooling2D"
   ]
  },
  {
   "cell_type": "code",
   "execution_count": 18,
   "metadata": {},
   "outputs": [],
   "source": [
    "im_rows = 28\n",
    "im_cols = 28\n",
    "im_color = 1\n",
    "in_shape = (im_rows, im_cols, im_color)\n",
    "out_size = 10"
   ]
  },
  {
   "cell_type": "code",
   "execution_count": 19,
   "metadata": {},
   "outputs": [],
   "source": [
    "(X_train, y_train), (X_test, y_test) = mnist.load_data()\n",
    "X_train = X_train.reshape(-1, im_rows, im_cols, im_color)\n",
    "X_train = X_train.astype('float32') / 255\n",
    "X_test = X_test.reshape(-1, im_rows, im_cols, im_color)\n",
    "X_test = X_test.astype('float32') / 255\n",
    "y_train = keras.utils.np_utils.to_categorical(y_train.astype('int32'), 10)\n",
    "y_test = keras.utils.np_utils.to_categorical(y_test.astype('int32'), 10)"
   ]
  },
  {
   "cell_type": "code",
   "execution_count": 20,
   "metadata": {},
   "outputs": [
    {
     "name": "stdout",
     "output_type": "stream",
     "text": [
      "WARNING:tensorflow:From C:\\Users\\0190711653\\AppData\\Local\\Continuum\\anaconda3\\lib\\site-packages\\keras\\backend\\tensorflow_backend.py:4070: The name tf.nn.max_pool is deprecated. Please use tf.nn.max_pool2d instead.\n",
      "\n"
     ]
    }
   ],
   "source": [
    "model = Sequential()\n",
    "model.add(Conv2D(32, kernel_size=(3, 3), activation='relu', input_shape=in_shape))\n",
    "model.add(Conv2D(64, (3, 3), activation='relu'))\n",
    "model.add(MaxPooling2D(pool_size=(2, 2)))\n",
    "model.add(Dropout(0.25))\n",
    "model.add(Flatten())\n",
    "model.add(Dense(128, activation='relu'))\n",
    "model.add(Dropout(0.5))\n",
    "model.add(Dense(out_size, activation='softmax'))"
   ]
  },
  {
   "cell_type": "code",
   "execution_count": 21,
   "metadata": {},
   "outputs": [],
   "source": [
    "model.compile(\n",
    "    loss='categorical_crossentropy',\n",
    "    optimizer=RMSprop(),\n",
    "    metrics=['accuracy'])"
   ]
  },
  {
   "cell_type": "code",
   "execution_count": 22,
   "metadata": {},
   "outputs": [
    {
     "name": "stdout",
     "output_type": "stream",
     "text": [
      "Train on 60000 samples, validate on 10000 samples\n",
      "Epoch 1/12\n",
      "60000/60000 [==============================] - 60s 997us/step - loss: 0.2169 - accuracy: 0.9337 - val_loss: 0.0533 - val_accuracy: 0.9826\n",
      "Epoch 2/12\n",
      "60000/60000 [==============================] - 59s 987us/step - loss: 0.0812 - accuracy: 0.9763 - val_loss: 0.0405 - val_accuracy: 0.9870\n",
      "Epoch 3/12\n",
      "60000/60000 [==============================] - 60s 994us/step - loss: 0.0632 - accuracy: 0.9815 - val_loss: 0.0364 - val_accuracy: 0.9883\n",
      "Epoch 4/12\n",
      "60000/60000 [==============================] - 60s 1ms/step - loss: 0.0552 - accuracy: 0.9840 - val_loss: 0.0346 - val_accuracy: 0.9895\n",
      "Epoch 5/12\n",
      "60000/60000 [==============================] - 60s 1ms/step - loss: 0.0498 - accuracy: 0.9861 - val_loss: 0.0327 - val_accuracy: 0.9899\n",
      "Epoch 6/12\n",
      "60000/60000 [==============================] - 60s 1000us/step - loss: 0.0484 - accuracy: 0.9858 - val_loss: 0.0294 - val_accuracy: 0.9917\n",
      "Epoch 7/12\n",
      "60000/60000 [==============================] - 60s 1000us/step - loss: 0.0475 - accuracy: 0.9867 - val_loss: 0.0313 - val_accuracy: 0.9905\n",
      "Epoch 8/12\n",
      "60000/60000 [==============================] - 60s 998us/step - loss: 0.0455 - accuracy: 0.9869 - val_loss: 0.0313 - val_accuracy: 0.9910\n",
      "Epoch 9/12\n",
      "60000/60000 [==============================] - 60s 1ms/step - loss: 0.0497 - accuracy: 0.9865 - val_loss: 0.0315 - val_accuracy: 0.9911\n",
      "Epoch 10/12\n",
      "60000/60000 [==============================] - 60s 1ms/step - loss: 0.0521 - accuracy: 0.9859 - val_loss: 0.0401 - val_accuracy: 0.9889\n",
      "Epoch 11/12\n",
      "60000/60000 [==============================] - 60s 997us/step - loss: 0.0521 - accuracy: 0.9858 - val_loss: 0.0344 - val_accuracy: 0.9909\n",
      "Epoch 12/12\n",
      "60000/60000 [==============================] - 60s 1ms/step - loss: 0.0515 - accuracy: 0.9864 - val_loss: 0.0403 - val_accuracy: 0.9902\n"
     ]
    }
   ],
   "source": [
    "hist = model.fit(X_train, y_train,\n",
    "                batch_size=128,\n",
    "                epochs=12,\n",
    "                verbose=1,\n",
    "                validation_data=(X_test, y_test))"
   ]
  },
  {
   "cell_type": "code",
   "execution_count": 23,
   "metadata": {},
   "outputs": [
    {
     "name": "stdout",
     "output_type": "stream",
     "text": [
      "10000/10000 [==============================] - 2s 205us/step\n",
      "Accuracy:  0.9901999831199646 Loss:  0.0402993337411627\n"
     ]
    }
   ],
   "source": [
    "score = model.evaluate(X_test, y_test, verbose=1)\n",
    "print(\"Accuracy: \", score[1], \"Loss: \", score[0])"
   ]
  },
  {
   "cell_type": "code",
   "execution_count": 24,
   "metadata": {},
   "outputs": [
    {
     "data": {
      "image/png": "[encoded data removed]",
      "text/plain": [
       "<Figure size 432x288 with 1 Axes>"
      ]
     },
     "metadata": {
      "needs_background": "light"
     },
     "output_type": "display_data"
    }
   ],
   "source": [
    "plt.plot(hist.history['accuracy'])\n",
    "plt.plot(hist.history['val_accuracy'])\n",
    "plt.title('Accuracy')\n",
    "plt.legend(['train', 'test'], loc='upper left')\n",
    "plt.show()"
   ]
  },
  {
   "cell_type": "code",
   "execution_count": 25,
   "metadata": {},
   "outputs": [
    {
     "data": {
      "image/png": "[encoded data removed]",
      "text/plain": [
       "<Figure size 432x288 with 1 Axes>"
      ]
     },
     "metadata": {
      "needs_background": "light"
     },
     "output_type": "display_data"
    }
   ],
   "source": [
    "plt.plot(hist.history['loss'])\n",
    "plt.plot(hist.history['val_loss'])\n",
    "plt.title('Loss')\n",
    "plt.legend(['train', 'test'], loc='upper left')\n",
    "plt.show()"
   ]
  },
  {
   "cell_type": "code",
   "execution_count": null,
   "metadata": {},
   "outputs": [],
   "source": []
  }
 ],
 "metadata": {
  "kernelspec": {
   "display_name": "Python 3",
   "language": "python",
   "name": "python3"
  },
  "language_info": {
   "codemirror_mode": {
    "name": "ipython",
    "version": 3
   },
   "file_extension": ".py",
   "mimetype": "text/x-python",
   "name": "python",
   "nbconvert_exporter": "python",
   "pygments_lexer": "ipython3",
   "version": "3.7.3"
  }
 },
 "nbformat": 4,
 "nbformat_minor": 2
}
