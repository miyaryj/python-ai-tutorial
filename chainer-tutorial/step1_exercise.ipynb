{
  "nbformat": 4,
  "nbformat_minor": 0,
  "metadata": {
    "colab": {
      "name": "step1-exercise.ipynb",
      "provenance": [],
      "collapsed_sections": []
    },
    "kernelspec": {
      "name": "python3",
      "display_name": "Python 3"
    }
  },
  "cells": [
    {
      "cell_type": "markdown",
      "metadata": {
        "id": "4UGqGfV8Avge"
      },
      "source": [
        "https://tutorials.chainer.org/ja/Exercise_Step_01.html"
      ]
    },
    {
      "cell_type": "markdown",
      "metadata": {
        "id": "iHg3QDxW0cJs"
      },
      "source": [
        "### Q2.4"
      ]
    },
    {
      "cell_type": "code",
      "metadata": {
        "colab": {
          "base_uri": "https://localhost:8080/"
        },
        "id": "hC-ed82j0YyU",
        "outputId": "5a5b01b2-dac9-489a-b3e6-fc3176a83bc8"
      },
      "source": [
        "a = [4, 8, 3, 4, 1]\n",
        "[x % 2 for x in a]"
      ],
      "execution_count": 2,
      "outputs": [
        {
          "output_type": "execute_result",
          "data": {
            "text/plain": [
              "[0, 0, 1, 0, 1]"
            ]
          },
          "metadata": {
            "tags": []
          },
          "execution_count": 2
        }
      ]
    },
    {
      "cell_type": "code",
      "metadata": {
        "colab": {
          "base_uri": "https://localhost:8080/"
        },
        "id": "DdcTPbno0oiw",
        "outputId": "7a77f6d5-c04b-4e1b-e3fd-98179b2f6042"
      },
      "source": [
        "a = [4, 8, 3, 4, 1]\n",
        "result = [x % 2 for x in a]\n",
        "\n",
        "from functools import reduce\n",
        "reduce(lambda a, b: a + b, result)"
      ],
      "execution_count": 3,
      "outputs": [
        {
          "output_type": "execute_result",
          "data": {
            "text/plain": [
              "2"
            ]
          },
          "metadata": {
            "tags": []
          },
          "execution_count": 3
        }
      ]
    },
    {
      "cell_type": "code",
      "metadata": {
        "colab": {
          "base_uri": "https://localhost:8080/"
        },
        "id": "4pWFKiRU1Pb0",
        "outputId": "ae3af289-1cb5-42b0-b60f-4d741d39a4d2"
      },
      "source": [
        "a = [4, 8, 3, 4, 1]\n",
        "[x for x in a if x % 2 == 1]"
      ],
      "execution_count": 5,
      "outputs": [
        {
          "output_type": "execute_result",
          "data": {
            "text/plain": [
              "[3, 1]"
            ]
          },
          "metadata": {
            "tags": []
          },
          "execution_count": 5
        }
      ]
    },
    {
      "cell_type": "markdown",
      "metadata": {
        "id": "JpRTLILB1jCx"
      },
      "source": [
        "### 2.5"
      ]
    },
    {
      "cell_type": "code",
      "metadata": {
        "colab": {
          "base_uri": "https://localhost:8080/",
          "height": 53
        },
        "id": "MyVTazDJ1eHr",
        "outputId": "1aed58af-dfa5-4154-aefb-2830db802dc0"
      },
      "source": [
        "' '.join([str(a) for a in range(100)])"
      ],
      "execution_count": 14,
      "outputs": [
        {
          "output_type": "execute_result",
          "data": {
            "application/vnd.google.colaboratory.intrinsic+json": {
              "type": "string"
            },
            "text/plain": [
              "'0 1 2 3 4 5 6 7 8 9 10 11 12 13 14 15 16 17 18 19 20 21 22 23 24 25 26 27 28 29 30 31 32 33 34 35 36 37 38 39 40 41 42 43 44 45 46 47 48 49 50 51 52 53 54 55 56 57 58 59 60 61 62 63 64 65 66 67 68 69 70 71 72 73 74 75 76 77 78 79 80 81 82 83 84 85 86 87 88 89 90 91 92 93 94 95 96 97 98 99'"
            ]
          },
          "metadata": {
            "tags": []
          },
          "execution_count": 14
        }
      ]
    },
    {
      "cell_type": "code",
      "metadata": {
        "colab": {
          "base_uri": "https://localhost:8080/",
          "height": 36
        },
        "id": "oBVqi9ur1rhv",
        "outputId": "9cc141f7-a4eb-4b67-b321-15871fe8cf77"
      },
      "source": [
        "'{:.9f}'.format(1.0 / 7.0)"
      ],
      "execution_count": 16,
      "outputs": [
        {
          "output_type": "execute_result",
          "data": {
            "application/vnd.google.colaboratory.intrinsic+json": {
              "type": "string"
            },
            "text/plain": [
              "'0.142857143'"
            ]
          },
          "metadata": {
            "tags": []
          },
          "execution_count": 16
        }
      ]
    },
    {
      "cell_type": "markdown",
      "metadata": {
        "id": "O8B9O4Gl5L6H"
      },
      "source": [
        "### 2.7"
      ]
    },
    {
      "cell_type": "code",
      "metadata": {
        "colab": {
          "base_uri": "https://localhost:8080/"
        },
        "id": "-eW9rwca1-hE",
        "outputId": "8404893b-d32d-4121-faef-c1a3cbbc2782"
      },
      "source": [
        "def f(a):\n",
        "    a = [6, 7, 8]\n",
        "\n",
        "def g(a):\n",
        "    a.append(1)\n",
        "\n",
        "def somefunction():\n",
        "    a0 = [1, 2, 3]\n",
        "    f(a0)\n",
        "    print(a0)\n",
        "\n",
        "    a1 = [1, 2, 3]\n",
        "    g(a1)\n",
        "    print(a1)\n",
        "\n",
        "somefunction()"
      ],
      "execution_count": 17,
      "outputs": [
        {
          "output_type": "stream",
          "text": [
            "[1, 2, 3]\n",
            "[1, 2, 3, 1]\n"
          ],
          "name": "stdout"
        }
      ]
    },
    {
      "cell_type": "markdown",
      "metadata": {
        "id": "GmFT3TGi5Wg-"
      },
      "source": [
        "### 2.8"
      ]
    },
    {
      "cell_type": "code",
      "metadata": {
        "colab": {
          "base_uri": "https://localhost:8080/"
        },
        "id": "zu8FfC0l5KK6",
        "outputId": "6e1b3301-d276-495e-a576-7fa88b273654"
      },
      "source": [
        "def is_prime(num):\n",
        "    return all([num % a is not 0 for a in range(2, num)])\n",
        "\n",
        "[a for a in range(100) if is_prime(a)]"
      ],
      "execution_count": 32,
      "outputs": [
        {
          "output_type": "execute_result",
          "data": {
            "text/plain": [
              "[0,\n",
              " 1,\n",
              " 2,\n",
              " 3,\n",
              " 5,\n",
              " 7,\n",
              " 11,\n",
              " 13,\n",
              " 17,\n",
              " 19,\n",
              " 23,\n",
              " 29,\n",
              " 31,\n",
              " 37,\n",
              " 41,\n",
              " 43,\n",
              " 47,\n",
              " 53,\n",
              " 59,\n",
              " 61,\n",
              " 67,\n",
              " 71,\n",
              " 73,\n",
              " 79,\n",
              " 83,\n",
              " 89,\n",
              " 97]"
            ]
          },
          "metadata": {
            "tags": []
          },
          "execution_count": 32
        }
      ]
    },
    {
      "cell_type": "code",
      "metadata": {
        "id": "4zoDusTQ94ph"
      },
      "source": [
        ""
      ],
      "execution_count": null,
      "outputs": []
    }
  ]
}