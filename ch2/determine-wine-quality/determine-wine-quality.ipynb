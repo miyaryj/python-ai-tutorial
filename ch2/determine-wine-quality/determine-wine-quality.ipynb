{
 "cells": [
  {
   "cell_type": "code",
   "execution_count": 1,
   "metadata": {},
   "outputs": [
    {
     "name": "stderr",
     "output_type": "stream",
     "text": [
      "C:\\Users\\0190711653\\AppData\\Local\\Continuum\\anaconda3\\lib\\site-packages\\sklearn\\externals\\joblib\\__init__.py:15: DeprecationWarning: sklearn.externals.joblib is deprecated in 0.21 and will be removed in 0.23. Please import this functionality directly from joblib, which can be installed with: pip install joblib. If this warning is raised when loading pickled models, you may need to re-serialize those models with scikit-learn 0.21+.\n",
      "  warnings.warn(msg, category=DeprecationWarning)\n"
     ]
    }
   ],
   "source": [
    "import json\n",
    "import pandas as pd\n",
    "from sklearn.externals import joblib"
   ]
  },
  {
   "cell_type": "code",
   "execution_count": 2,
   "metadata": {},
   "outputs": [],
   "source": [
    "def lambda_handler(event, context):\n",
    "    print(event['body'])\n",
    "    \n",
    "    req = json.loads(event['body'])\n",
    "    #req = json.loads(\"{\\\"fixed acidity\\\":6.0,\\\"volatile acidity\\\":0.34,\\\"citric acid\\\":0.24,\\\"residual sugar\\\":5.4,\\\"chlorides\\\":0.06,\\\"free sulfur dioxide\\\":23,\\\"total sulfur dioxide\\\":126,\\\"density\\\":0.9951,\\\"pH\\\":3.25,\\\"sulphates\\\":0.44,\\\"alcohol\\\":9}\")\n",
    "    input = pd.DataFrame.from_dict(req, orient='index').T\n",
    "\n",
    "    model = joblib.load('wine.pkl')\n",
    "    result = model.predict(input)[0]\n",
    "    print(f\"result: {result}\")\n",
    "    \n",
    "    return {\n",
    "        'isBase64Encoded': False,\n",
    "        'statusCode': 200,\n",
    "        'headers': {},\n",
    "        'body': json.dumps({\n",
    "            \"quality\": result.item()\n",
    "        })\n",
    "    }"
   ]
  },
  {
   "cell_type": "code",
   "execution_count": 3,
   "metadata": {},
   "outputs": [
    {
     "name": "stdout",
     "output_type": "stream",
     "text": [
      "{\"fixed acidity\":6.0,\"volatile acidity\":0.34,\"citric acid\":0.24,\"residual sugar\":5.4,\"chlorides\":0.06,\"free sulfur dioxide\":23,\"total sulfur dioxide\":126,\"density\":0.9951,\"pH\":3.25,\"sulphates\":0.44,\"alcohol\":9}\n",
      "result: 1\n"
     ]
    },
    {
     "data": {
      "text/plain": [
       "{'isBase64Encoded': False,\n",
       " 'statusCode': 200,\n",
       " 'headers': {},\n",
       " 'body': '{\"quality\": 1}'}"
      ]
     },
     "execution_count": 3,
     "metadata": {},
     "output_type": "execute_result"
    }
   ],
   "source": [
    "lambda_handler({\n",
    "    \"body\": \"{\\\"fixed acidity\\\":6.0,\\\"volatile acidity\\\":0.34,\\\"citric acid\\\":0.24,\\\"residual sugar\\\":5.4,\\\"chlorides\\\":0.06,\\\"free sulfur dioxide\\\":23,\\\"total sulfur dioxide\\\":126,\\\"density\\\":0.9951,\\\"pH\\\":3.25,\\\"sulphates\\\":0.44,\\\"alcohol\\\":9}\"\n",
    "}, {})"
   ]
  },
  {
   "cell_type": "code",
   "execution_count": null,
   "metadata": {},
   "outputs": [],
   "source": []
  }
 ],
 "metadata": {
  "kernelspec": {
   "display_name": "Python 3",
   "language": "python",
   "name": "python3"
  },
  "language_info": {
   "codemirror_mode": {
    "name": "ipython",
    "version": 3
   },
   "file_extension": ".py",
   "mimetype": "text/x-python",
   "name": "python",
   "nbconvert_exporter": "python",
   "pygments_lexer": "ipython3",
   "version": "3.7.3"
  }
 },
 "nbformat": 4,
 "nbformat_minor": 2
}
